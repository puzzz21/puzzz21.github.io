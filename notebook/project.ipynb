{
 "cells": [
  {
   "cell_type": "code",
   "execution_count": 1,
   "id": "5eea6ab1-67e9-4e5f-9780-5a0f7c784a8b",
   "metadata": {},
   "outputs": [],
   "source": [
    "from gensim.models import KeyedVectors\n",
    "from sklearn.metrics.pairwise import cosine_similarity\n",
    "from gensim.models import KeyedVectors\n",
    "import numpy as np"
   ]
  },
  {
   "cell_type": "code",
   "execution_count": 2,
   "id": "a5f64516-e87d-45c9-928a-83b4a677f1b3",
   "metadata": {},
   "outputs": [],
   "source": [
    "model = KeyedVectors.load_word2vec_format('GoogleNews-vectors-negative300.bin', binary=True)"
   ]
  },
  {
   "cell_type": "code",
   "execution_count": 3,
   "id": "c7c38c59-86e7-4cc7-bd2d-7a813fe4a4be",
   "metadata": {},
   "outputs": [],
   "source": [
    "def avgVec(words):\n",
    "    words = [word for word in words if word in model.key_to_index]\n",
    "    return np.mean(model[words], axis=0)"
   ]
  },
  {
   "cell_type": "code",
   "execution_count": 4,
   "id": "2f1accb8-b6e6-4d48-8b3a-1e01a33c9ff1",
   "metadata": {},
   "outputs": [],
   "source": [
    "\n",
    "listAdj = [\"intellectual\",\"ugly\",\"poor\",\"fat\",\"honest\",\"dishonest\", \"intelligent\", \"clever\" , \"sharp\", \"hardworking\", \"skillful\", \"smart\",\"nice\", \"shy\", \"handsome\", \"strong\", \"witted\", \"strange\", \"powerful\", \"leader\", \"boss\", \"evil\", \"elegant\", \"logical\", \"stupid\"]"
   ]
  },
  {
   "cell_type": "code",
   "execution_count": 5,
   "id": "86a1846c-efc8-439b-9d15-3eb4e20d6b33",
   "metadata": {},
   "outputs": [],
   "source": [
    "listProf = [\"engineer\", \"teacher\",\"army\", \"doctor\", \"nurse\", \"assistant\", \"pilot\", \"leader\", \"ruler\", \"owner\",\"founder\",\"programmer\",\"designer\", \"developer\", \"coder\",\"illustrator\",\"analyst\",\"scientist\", \"astronaut\", \"CEO\", \"boss\", \"carpenter\"]\n",
    "\n"
   ]
  },
  {
   "cell_type": "code",
   "execution_count": 6,
   "id": "061dcb17-9d38-4e72-a6fa-57ab3cd026dd",
   "metadata": {},
   "outputs": [],
   "source": [
    "\n",
    "listBoy = [\"boy\",\"him\",\"his\",\"man\",\"he\", \"himself\"]"
   ]
  },
  {
   "cell_type": "code",
   "execution_count": 7,
   "id": "fd7be5ad-add6-4bf2-abca-a2da0da4c40a",
   "metadata": {},
   "outputs": [],
   "source": [
    "\n",
    "listGirl = [\"girl\",\"her\",\"she\",\"woman\",\"hers\", \"herself\"]"
   ]
  },
  {
   "cell_type": "code",
   "execution_count": 8,
   "id": "a2c0519a-78b2-4063-82fe-1a44126b07e5",
   "metadata": {},
   "outputs": [],
   "source": [
    "boys = avgVec(listBoy)"
   ]
  },
  {
   "cell_type": "code",
   "execution_count": 9,
   "id": "ad940208-e965-4b26-b3e8-e65a77ef080a",
   "metadata": {},
   "outputs": [],
   "source": [
    "girls = avgVec(listGirl)"
   ]
  },
  {
   "cell_type": "code",
   "execution_count": 10,
   "id": "6f5bf1f4-117a-4662-829b-399a19bf9b55",
   "metadata": {},
   "outputs": [],
   "source": [
    "AdjRepBoy = []\n",
    "AdjRepGirl = []\n",
    "\n",
    "for a in listAdj:\n",
    "    x = np.array(model[a].reshape(1,-1))\n",
    "    y = np.array(boys.reshape(1,-1))\n",
    "    yy = np.array(girls.reshape(1,-1))\n",
    "    boySim = cosine_similarity(x,y)[0][0]\n",
    "    girlSim = cosine_similarity(x,yy)[0][0]\n",
    "    AdjRepGirl.append(girlSim)\n",
    "    AdjRepBoy.append(boySim)"
   ]
  },
  {
   "cell_type": "code",
   "execution_count": 11,
   "id": "b1bd7be1-34d0-4d54-9110-999dc0b225cb",
   "metadata": {},
   "outputs": [],
   "source": [
    "AdjProfBoy = []\n",
    "AdjProfGirl = []\n",
    "\n",
    "for a in listProf:\n",
    "    x = np.array(model[a].reshape(1,-1))\n",
    "    y = np.array(boys.reshape(1,-1))\n",
    "    yy = np.array(girls.reshape(1,-1))\n",
    "    boySim = cosine_similarity(x,y)[0][0]\n",
    "    girlSim = cosine_similarity(x,yy)[0][0]\n",
    "    AdjProfGirl.append(girlSim)\n",
    "    AdjProfBoy.append(boySim)"
   ]
  },
  {
   "cell_type": "code",
   "execution_count": 14,
   "id": "54118c0e-364b-4f21-b3df-376553dfccc5",
   "metadata": {},
   "outputs": [
    {
     "data": {
      "text/plain": [
       "['intellectual',\n",
       " 'ugly',\n",
       " 'poor',\n",
       " 'fat',\n",
       " 'honest',\n",
       " 'dishonest',\n",
       " 'intelligent',\n",
       " 'clever',\n",
       " 'sharp',\n",
       " 'hardworking',\n",
       " 'skillful',\n",
       " 'smart',\n",
       " 'nice',\n",
       " 'shy',\n",
       " 'handsome',\n",
       " 'strong',\n",
       " 'witted',\n",
       " 'strange',\n",
       " 'powerful',\n",
       " 'leader',\n",
       " 'boss',\n",
       " 'evil',\n",
       " 'elegant',\n",
       " 'logical',\n",
       " 'stupid']"
      ]
     },
     "execution_count": 14,
     "metadata": {},
     "output_type": "execute_result"
    }
   ],
   "source": [
    "listAdj"
   ]
  },
  {
   "cell_type": "code",
   "execution_count": 12,
   "id": "8f4f7a24-2460-4f3d-809d-8536bf4a5684",
   "metadata": {},
   "outputs": [
    {
     "data": {
      "text/plain": [
       "[0.102606535,\n",
       " 0.14327475,\n",
       " 0.21538135,\n",
       " 0.07449223,\n",
       " 0.2517268,\n",
       " 0.15814176,\n",
       " 0.0928388,\n",
       " 0.13509774,\n",
       " 0.15008861,\n",
       " 0.18834724,\n",
       " 0.18753105,\n",
       " 0.116378464,\n",
       " 0.17650923,\n",
       " 0.19706826,\n",
       " 0.21677244,\n",
       " 0.095558226,\n",
       " 0.13944277,\n",
       " 0.26480436,\n",
       " 0.08883052,\n",
       " 0.202108,\n",
       " 0.27040994,\n",
       " 0.16936177,\n",
       " 0.020353176,\n",
       " 0.01422369,\n",
       " 0.25708994]"
      ]
     },
     "execution_count": 12,
     "metadata": {},
     "output_type": "execute_result"
    }
   ],
   "source": [
    "AdjRepBoy"
   ]
  },
  {
   "cell_type": "code",
   "execution_count": 13,
   "id": "37c2ab73-e9d6-4560-9309-5e6b0acd0810",
   "metadata": {},
   "outputs": [
    {
     "data": {
      "text/plain": [
       "[0.0889364,\n",
       " 0.16888969,\n",
       " 0.09601478,\n",
       " 0.09842371,\n",
       " 0.15494382,\n",
       " 0.1224187,\n",
       " 0.050868917,\n",
       " 0.044437338,\n",
       " 0.048054155,\n",
       " 0.1440311,\n",
       " 0.053562295,\n",
       " 0.058065105,\n",
       " 0.15256476,\n",
       " 0.17571682,\n",
       " 0.1453939,\n",
       " 0.057753228,\n",
       " 0.041761544,\n",
       " 0.2242957,\n",
       " 0.057248175,\n",
       " 0.055188008,\n",
       " 0.1305628,\n",
       " 0.14398874,\n",
       " 0.11589853,\n",
       " -0.007795368,\n",
       " 0.19706102]"
      ]
     },
     "execution_count": 13,
     "metadata": {},
     "output_type": "execute_result"
    }
   ],
   "source": [
    "AdjRepGirl"
   ]
  },
  {
   "cell_type": "code",
   "execution_count": null,
   "id": "b16b12a2-a1b6-4227-a202-314001b1a946",
   "metadata": {},
   "outputs": [],
   "source": []
  },
  {
   "cell_type": "code",
   "execution_count": null,
   "id": "894cdac8-2c36-4867-abf4-f26c4e70190f",
   "metadata": {},
   "outputs": [],
   "source": []
  },
  {
   "cell_type": "code",
   "execution_count": 16,
   "id": "6a62fd17-54a2-45fd-86f6-e2174dd94bb3",
   "metadata": {},
   "outputs": [
    {
     "data": {
      "image/png": "[encoded data removed]",
      "text/plain": [
       "<Figure size 432x288 with 1 Axes>"
      ]
     },
     "metadata": {
      "needs_background": "light"
     },
     "output_type": "display_data"
    }
   ],
   "source": [
    "import matplotlib.pyplot as plt\n",
    " \n",
    "plt.title(\"Adjective compare between male and female\")\n",
    "\n",
    "\n",
    "plt.scatter(AdjRepBoy, AdjRepGirl, c =\"orange\")\n",
    "plt.xlabel(\"HE\")\n",
    "plt.ylabel(\"SHE\")\n",
    " \n",
    "for i, label in enumerate(listAdj):\n",
    "    plt.annotate(label, (AdjRepBoy[i], AdjRepGirl[i] ))\n",
    "\n",
    "plt.plot([0,0.25],[0,0.25])\n",
    "\n",
    "plt.show()\n",
    "\n"
   ]
  },
  {
   "cell_type": "code",
   "execution_count": 17,
   "id": "444e07f1-7078-4068-8817-820c4e7e6fa6",
   "metadata": {},
   "outputs": [
    {
     "data": {
      "text/plain": [
       "[0.110175356,\n",
       " 0.26460698,\n",
       " 0.21683218,\n",
       " 0.35038695,\n",
       " 0.22309893,\n",
       " 0.15285034,\n",
       " 0.14073344,\n",
       " 0.202108,\n",
       " 0.24215654,\n",
       " 0.16337946,\n",
       " -0.03309837,\n",
       " 0.07529363,\n",
       " 0.030025106,\n",
       " 0.07418403,\n",
       " 0.08150789,\n",
       " 0.123691946,\n",
       " -0.011086313,\n",
       " 0.115963295,\n",
       " 0.16266766,\n",
       " -0.07093726,\n",
       " 0.27040994,\n",
       " 0.34833553]"
      ]
     },
     "execution_count": 17,
     "metadata": {},
     "output_type": "execute_result"
    }
   ],
   "source": [
    "AdjProfBoy"
   ]
  },
  {
   "cell_type": "code",
   "execution_count": 18,
   "id": "37c4bd3c-310b-473c-b20d-56f15cc461b9",
   "metadata": {},
   "outputs": [
    {
     "data": {
      "text/plain": [
       "[0.016709283,\n",
       " 0.3471092,\n",
       " 0.12842238,\n",
       " 0.32479507,\n",
       " 0.4393879,\n",
       " 0.13025668,\n",
       " 0.11664547,\n",
       " 0.055188008,\n",
       " 0.1718194,\n",
       " 0.118920654,\n",
       " -0.07193611,\n",
       " 0.075464584,\n",
       " 0.15574309,\n",
       " 0.031665985,\n",
       " 0.1250456,\n",
       " 0.1586478,\n",
       " -0.02430661,\n",
       " 0.10968485,\n",
       " 0.2174427,\n",
       " -0.1256492,\n",
       " 0.1305628,\n",
       " 0.22043163]"
      ]
     },
     "execution_count": 18,
     "metadata": {},
     "output_type": "execute_result"
    }
   ],
   "source": [
    "AdjProfGirl"
   ]
  },
  {
   "cell_type": "code",
   "execution_count": 179,
   "id": "421ca820-bf3e-4d5f-9603-9af482a10f58",
   "metadata": {},
   "outputs": [
    {
     "data": {
      "image/png": "[encoded data removed]",
      "text/plain": [
       "<Figure size 432x288 with 1 Axes>"
      ]
     },
     "metadata": {
      "needs_background": "light"
     },
     "output_type": "display_data"
    }
   ],
   "source": [
    "import matplotlib.pyplot as plt\n",
    " \n",
    "plt.title(\"Profession compare between male and female\")\n",
    "\n",
    "\n",
    "plt.scatter(AdjProfBoy, AdjProfGirl, c =\"orange\")\n",
    "\n",
    "plt.xlabel(\"HE\")\n",
    "plt.ylabel(\"SHE\")\n",
    " \n",
    "for i, label in enumerate(listProf):\n",
    "    plt.annotate(label, (AdjProfBoy[i], AdjProfGirl[i] ))\n",
    "   \n",
    "plt.plot([-0.1,0.4],[-0.1,0.4])\n",
    "    \n",
    "plt.show()"
   ]
  },
  {
   "cell_type": "code",
   "execution_count": 19,
   "id": "1d2248f7-3714-4b46-bd80-6ae810d72e69",
   "metadata": {},
   "outputs": [],
   "source": [
    "modelnp = KeyedVectors.load_word2vec_format('nepali_embeddings_word2vec.txt')"
   ]
  },
  {
   "cell_type": "code",
   "execution_count": 20,
   "id": "fc950f65-61c7-4236-9460-1c31427677dc",
   "metadata": {},
   "outputs": [],
   "source": [
    "def avgVecNp(words):\n",
    "    words = [word for word in words if word in modelnp.key_to_index]\n",
    "    return np.mean(modelnp[words], axis=0)"
   ]
  },
  {
   "cell_type": "code",
   "execution_count": 21,
   "id": "c27c6d98-c007-4a10-9ece-c6c1776d5485",
   "metadata": {},
   "outputs": [],
   "source": [
    "\n",
    "listAdjnp = [\"बौद्धिक\",\"कुरूप\",\"गरिब\",\"मोटो\",\"इमानदार\",\"बेईमान\", \"बुद्धिमान\", \"चतुर\", \"मेहनती\", \"दक्ष\", \"स्मार्ट\",\"राम्रो\",\"शर्मीला\", \"सुन्दर\", \"बलियो\", \"बुद्धिमान\", \"अनौठो\", \"शक्तिशाली\", \"नेता\", \"मालिक\", \"दुष्ट\", \"शिष्ट\", \"तार्किक\", \"मूर्ख\"]\n"
   ]
  },
  {
   "cell_type": "code",
   "execution_count": 22,
   "id": "1fdec269-7735-4900-b3fd-a87c9cc23551",
   "metadata": {},
   "outputs": [],
   "source": [
    "\n",
    "listProfnp = [\"इन्जिनियर\", \"शिक्षक\",\"सेना\", \"डाक्टर\", \"नर्स\", \"सहायक\", \"पाइलट\", \"नेता\", \"शासक\", \"मालिक\", \"संस्थापक\",\"प्रोग्रामर\",\"डिजाइनर\",\"विकासकर्ता\",\"चित्रकार\",\"विश्लेषक\",\"वैज्ञानिक\", \"सीईओ\", \"सिकर्मी\"]\n",
    "\n"
   ]
  },
  {
   "cell_type": "code",
   "execution_count": 23,
   "id": "330a7742-52ca-4850-90e9-259bbcb29953",
   "metadata": {},
   "outputs": [],
   "source": [
    "\n",
    "listBoynp = [\"केटा\",\"पुरुष\",\"मान्छे\",\"बुबा\",\"गर्छ\",\"बुबा\",\"भाइ\",\"श्रीमान\"]\n"
   ]
  },
  {
   "cell_type": "code",
   "execution_count": 24,
   "id": "9fe088d8-da63-4ca9-81bd-0326d5b3b724",
   "metadata": {},
   "outputs": [],
   "source": [
    "\n",
    "listGirlnp = [\"केटी\",\"महिला\", \"छिन्\",\"गर्छिन्\",\"आमा\",\"बहिनी\",\"पत्नी\"]\n"
   ]
  },
  {
   "cell_type": "code",
   "execution_count": 25,
   "id": "f839076b-1544-4573-a639-097736898077",
   "metadata": {},
   "outputs": [],
   "source": [
    "\n",
    "boysnp = avgVecNp(listBoynp)\n"
   ]
  },
  {
   "cell_type": "code",
   "execution_count": 26,
   "id": "b4c22395-ac9d-463a-a226-dbcdb1614da3",
   "metadata": {},
   "outputs": [],
   "source": [
    "\n",
    "girlsnp = avgVecNp(listGirlnp)\n"
   ]
  },
  {
   "cell_type": "code",
   "execution_count": 27,
   "id": "39a29762-6673-4fdb-bddf-e7d69a97a913",
   "metadata": {},
   "outputs": [
    {
     "data": {
      "text/plain": [
       "[-0.028089534,\n",
       " 0.048169546,\n",
       " 0.1099443,\n",
       " 0.09010577,\n",
       " -0.045051865,\n",
       " -0.024676222,\n",
       " 0.23343812,\n",
       " 0.034864206,\n",
       " 0.093408376,\n",
       " -0.09783937,\n",
       " -0.023243554,\n",
       " 0.14947914,\n",
       " 0.15001583,\n",
       " 0.13717352,\n",
       " -0.012458904,\n",
       " 0.23343812,\n",
       " 0.190074,\n",
       " 0.026715003,\n",
       " 0.007850177,\n",
       " 0.23567347,\n",
       " 0.15246637,\n",
       " 0.1572599,\n",
       " -0.13467655,\n",
       " 0.042021792]"
      ]
     },
     "execution_count": 27,
     "metadata": {},
     "output_type": "execute_result"
    }
   ],
   "source": [
    "AdjRepBoynp = []\n",
    "AdjRepGirlnp = []\n",
    "\n",
    "for a in listAdjnp:\n",
    "    x = np.array(modelnp[a].reshape(1,-1))\n",
    "    y = np.array(boysnp.reshape(1,-1))\n",
    "    yy = np.array(girlsnp.reshape(1,-1))\n",
    "    boySim = cosine_similarity(x,y)[0][0]\n",
    "    girlSim = cosine_similarity(x,yy)[0][0]\n",
    "    AdjRepGirlnp.append(girlSim)\n",
    "    AdjRepBoynp.append(boySim)\n",
    "    \n",
    "AdjRepGirlnp\n",
    "    "
   ]
  },
  {
   "cell_type": "code",
   "execution_count": 29,
   "id": "c1f4698f-3c14-4a5a-a31f-440d4b958ea3",
   "metadata": {},
   "outputs": [
    {
     "data": {
      "text/plain": [
       "[0.014195916,\n",
       " 0.09469921,\n",
       " 0.16899514,\n",
       " 0.086829424,\n",
       " 0.029763956,\n",
       " -0.0033184674,\n",
       " 0.23868032,\n",
       " 0.124737315,\n",
       " 0.14923011,\n",
       " -0.09139143,\n",
       " -0.07877253,\n",
       " 0.24062116,\n",
       " 0.15622866,\n",
       " 0.11085446,\n",
       " 0.047323376,\n",
       " 0.23868032,\n",
       " 0.23025276,\n",
       " 0.038391326,\n",
       " 0.079154424,\n",
       " 0.33153087,\n",
       " 0.2543247,\n",
       " 0.20426232,\n",
       " -0.1378273,\n",
       " 0.16695659]"
      ]
     },
     "execution_count": 29,
     "metadata": {},
     "output_type": "execute_result"
    }
   ],
   "source": [
    "AdjRepBoynp"
   ]
  },
  {
   "cell_type": "code",
   "execution_count": 28,
   "id": "dcc1b983-a169-4092-98f9-5405a1e21393",
   "metadata": {},
   "outputs": [
    {
     "name": "stderr",
     "output_type": "stream",
     "text": [
      "/Users/p/opt/anaconda3/lib/python3.7/site-packages/IPython/core/pylabtools.py:132: UserWarning: Glyph 108 (l) missing from current font.\n",
      "  fig.canvas.print_figure(bytes_io, **kw)\n",
      "/Users/p/opt/anaconda3/lib/python3.7/site-packages/IPython/core/pylabtools.py:132: UserWarning: Glyph 112 (p) missing from current font.\n",
      "  fig.canvas.print_figure(bytes_io, **kw)\n"
     ]
    },
    {
     "data": {
      "image/png": "[encoded data removed]",
      "text/plain": [
       "<Figure size 432x288 with 1 Axes>"
      ]
     },
     "metadata": {
      "needs_background": "light"
     },
     "output_type": "display_data"
    }
   ],
   "source": [
    "import matplotlib.pyplot as plt\n",
    "from matplotlib.font_manager import FontProperties\n",
    "\n",
    "font_path = 'Mangal.ttf'\n",
    "\n",
    "font = FontProperties(fname=font_path)\n",
    "\n",
    "plt.title(\"Adjective compare between male and female\")\n",
    "\n",
    "plt.scatter(AdjRepBoynp, AdjRepGirlnp, c =\"orange\")\n",
    "plt.xlabel(\"HE\")\n",
    "plt.ylabel(\"SHE\")\n",
    " \n",
    "for i, label in enumerate(listAdjnp):\n",
    "    plt.annotate(label, (AdjRepBoynp[i], AdjRepGirlnp[i] ), fontproperties=font)\n",
    "\n",
    "plt.plot([-0.1,0.3],[-0.1,0.3])\n",
    "\n",
    "\n",
    "plt.show()"
   ]
  },
  {
   "cell_type": "code",
   "execution_count": 30,
   "id": "9cdce292-1568-47ae-bf87-4da118f54116",
   "metadata": {},
   "outputs": [
    {
     "ename": "NameError",
     "evalue": "name 'AdjProfGirlnp' is not defined",
     "output_type": "error",
     "traceback": [
      "\u001b[0;31m---------------------------------------------------------------------------\u001b[0m",
      "\u001b[0;31mNameError\u001b[0m                                 Traceback (most recent call last)",
      "\u001b[0;32m<ipython-input-30-f91a2defd271>\u001b[0m in \u001b[0;36m<module>\u001b[0;34m\u001b[0m\n\u001b[0;32m----> 1\u001b[0;31m \u001b[0mAdjProfGirlnp\u001b[0m\u001b[0;34m\u001b[0m\u001b[0;34m\u001b[0m\u001b[0m\n\u001b[0m",
      "\u001b[0;31mNameError\u001b[0m: name 'AdjProfGirlnp' is not defined"
     ]
    }
   ],
   "source": [
    "AdjProfGirlnp"
   ]
  },
  {
   "cell_type": "code",
   "execution_count": 31,
   "id": "901c6888-b2ac-4ef5-98d1-22b06c077c81",
   "metadata": {},
   "outputs": [],
   "source": [
    "AdjProfBoynp = []\n",
    "AdjProfGirlnp = []\n",
    "\n",
    "for a in listProfnp:\n",
    "    x = np.array(modelnp[a].reshape(1,-1))\n",
    "    y = np.array(boysnp.reshape(1,-1))\n",
    "    yy = np.array(girlsnp.reshape(1,-1))\n",
    "    boySim = cosine_similarity(x,y)[0][0]\n",
    "    girlSim = cosine_similarity(x,yy)[0][0]\n",
    "    AdjProfGirlnp.append(girlSim)\n",
    "    AdjProfBoynp.append(boySim)"
   ]
  },
  {
   "cell_type": "code",
   "execution_count": 32,
   "id": "ffacc59c-c276-4913-8865-57dea63cb0a9",
   "metadata": {},
   "outputs": [
    {
     "data": {
      "text/plain": [
       "[0.01822856,\n",
       " 0.12389184,\n",
       " -0.023285942,\n",
       " 0.3320218,\n",
       " 0.16867839,\n",
       " 0.02519504,\n",
       " 0.12521788,\n",
       " 0.079154424,\n",
       " 0.17371593,\n",
       " 0.33153087,\n",
       " 0.0058103525,\n",
       " -0.003756868,\n",
       " 0.12637332,\n",
       " -0.077337265,\n",
       " 0.19610186,\n",
       " -0.0008710907,\n",
       " -0.034633204,\n",
       " -0.05171871,\n",
       " 0.19106735]"
      ]
     },
     "execution_count": 32,
     "metadata": {},
     "output_type": "execute_result"
    }
   ],
   "source": [
    "AdjProfBoynp"
   ]
  },
  {
   "cell_type": "code",
   "execution_count": 33,
   "id": "46307707-4a4a-411c-9e58-402ecf553a45",
   "metadata": {},
   "outputs": [
    {
     "data": {
      "text/plain": [
       "[-0.063666716,\n",
       " 0.062904894,\n",
       " 0.01866469,\n",
       " 0.24972385,\n",
       " 0.30740944,\n",
       " 0.040908128,\n",
       " 0.07162835,\n",
       " 0.007850177,\n",
       " 0.021102468,\n",
       " 0.23567347,\n",
       " 0.073543474,\n",
       " -0.018613616,\n",
       " 0.2897109,\n",
       " -0.094111696,\n",
       " 0.18834507,\n",
       " -0.094892696,\n",
       " -0.114386715,\n",
       " -0.019855563,\n",
       " 0.13544051]"
      ]
     },
     "execution_count": 33,
     "metadata": {},
     "output_type": "execute_result"
    }
   ],
   "source": [
    "AdjProfGirlnp"
   ]
  },
  {
   "cell_type": "code",
   "execution_count": 164,
   "id": "8b3b0ba6-fa6e-491a-acdd-2ba74c77dcc6",
   "metadata": {},
   "outputs": [
    {
     "data": {
      "image/png": "[encoded data removed]",
      "text/plain": [
       "<Figure size 432x288 with 1 Axes>"
      ]
     },
     "metadata": {
      "needs_background": "light"
     },
     "output_type": "display_data"
    }
   ],
   "source": [
    "import matplotlib.pyplot as plt\n",
    "from matplotlib.font_manager import FontProperties\n",
    "\n",
    "font_path = 'Mangal.ttf'\n",
    "\n",
    "\n",
    "\n",
    "font = FontProperties(fname=font_path)\n",
    "\n",
    "plt.title(\"Profession compare between male and female\")\n",
    "\n",
    "\n",
    "plt.scatter(AdjProfBoynp, AdjProfGirlnp, c =\"orange\")\n",
    "plt.xlabel(\"HE\")\n",
    "plt.ylabel(\"SHE\")\n",
    " \n",
    "for i, label in enumerate(listProfnp):\n",
    "    plt.annotate(label, (AdjProfBoynp[i], AdjProfGirlnp[i] ), fontproperties=font)\n",
    "\n",
    "plt.plot([-0.1,0.3],[-0.1,0.3])\n",
    "\n",
    "\n",
    "plt.show()"
   ]
  },
  {
   "cell_type": "code",
   "execution_count": 23,
   "id": "323c8383-1f97-4b0f-b3bc-df9699fc40fa",
   "metadata": {},
   "outputs": [
    {
     "data": {
      "text/plain": [
       "[{'sequence': 'She is a nurse',\n",
       "  'score': 0.4524470865726471,\n",
       "  'token': 2515,\n",
       "  'token_str': 'She'},\n",
       " {'sequence': 'He is a nurse',\n",
       "  'score': 0.23706881701946259,\n",
       "  'token': 894,\n",
       "  'token_str': 'He'},\n",
       " {'sequence': 'This is a nurse',\n",
       "  'score': 0.031118318438529968,\n",
       "  'token': 713,\n",
       "  'token_str': 'This'},\n",
       " {'sequence': 'Who is a nurse',\n",
       "  'score': 0.03077966533601284,\n",
       "  'token': 12375,\n",
       "  'token_str': 'Who'},\n",
       " {'sequence': 'Mother is a nurse',\n",
       "  'score': 0.00851688627153635,\n",
       "  'token': 34266,\n",
       "  'token_str': 'Mother'}]"
      ]
     },
     "execution_count": 23,
     "metadata": {},
     "output_type": "execute_result"
    }
   ],
   "source": [
    "from transformers import pipeline\n",
    "nlp = pipeline(\"fill-mask\", model=\"roberta-base\")\n",
    "nlp(\"<mask> is a nurse\")"
   ]
  },
  {
   "cell_type": "code",
   "execution_count": 182,
   "id": "c59951f7-19fb-46a1-9c16-3cf96076bc23",
   "metadata": {},
   "outputs": [
    {
     "data": {
      "image/png": "[encoded data removed]",
      "text/plain": [
       "<Figure size 432x288 with 1 Axes>"
      ]
     },
     "metadata": {
      "needs_background": "light"
     },
     "output_type": "display_data"
    }
   ],
   "source": [
    "import matplotlib.pyplot as plt\n",
    "import numpy as np\n",
    "\n",
    "\n",
    "labels = ['model', 'real world']\n",
    "men_means = [34.37, 12.5]\n",
    "women_means = [65.62, 87.7]\n",
    "\n",
    "x = np.arange(len(labels)) \n",
    "width = 0.35\n",
    "\n",
    "fig, ax = plt.subplots()\n",
    "rects1 = ax.bar(x - width/2, men_means, width, label='Men')\n",
    "rects2 = ax.bar(x + width/2, women_means, width, label='Women')\n",
    "\n",
    "ax.set_ylabel('Scores')\n",
    "ax.set_title('Female to male nurse ratio in model and real world')\n",
    "ax.set_xticks(x, labels)\n",
    "ax.legend()\n",
    "\n",
    "ax.bar_label(rects1, padding=3)\n",
    "ax.bar_label(rects2, padding=3)\n",
    "\n",
    "fig.tight_layout()\n",
    "\n",
    "plt.show()"
   ]
  },
  {
   "cell_type": "code",
   "execution_count": 181,
   "id": "758b0cb3-6a1f-4e37-b8ff-2298d950fb4a",
   "metadata": {},
   "outputs": [
    {
     "data": {
      "image/png": "[encoded data removed]",
      "text/plain": [
       "<Figure size 432x288 with 1 Axes>"
      ]
     },
     "metadata": {
      "needs_background": "light"
     },
     "output_type": "display_data"
    }
   ],
   "source": [
    "men_means = [56.74, 45.8]\n",
    "women_means = [43.25,54.2]\n",
    "\n",
    "x = np.arange(len(labels))  \n",
    "width = 0.35 \n",
    "\n",
    "fig, ax = plt.subplots()\n",
    "rects1 = ax.bar(x - width/2, men_means, width, label='Men')\n",
    "rects2 = ax.bar(x + width/2, women_means, width, label='Women')\n",
    "\n",
    "ax.set_ylabel('Scores')\n",
    "ax.set_title('Female to male nurse doctor in model and real world')\n",
    "ax.set_xticks(x, labels)\n",
    "ax.legend()\n",
    "\n",
    "ax.bar_label(rects1, padding=3)\n",
    "ax.bar_label(rects2, padding=3)\n",
    "\n",
    "\n",
    "plt.show()"
   ]
  },
  {
   "cell_type": "code",
   "execution_count": 129,
   "id": "9c6a4e7a-e6bc-4d22-853c-d06b9f148140",
   "metadata": {},
   "outputs": [],
   "source": [
    "from transformers import BertTokenizer\n",
    "\n",
    "vocab_file_dir = 'NepaliBERT/' \n",
    "tokenizernep = BertTokenizer.from_pretrained(vocab_file_dir,\n",
    "                                        strip_accents=False,\n",
    "                                         clean_text=False )"
   ]
  },
  {
   "cell_type": "code",
   "execution_count": 149,
   "id": "be021e4c-4a2d-4322-9852-d1ce3e50d1bc",
   "metadata": {},
   "outputs": [
    {
     "data": {
      "text/plain": [
       "[{'sequence': 'उनी अस्पतालमा काम गर्छिन् । ऊ एउटी नर्स हुन ।',\n",
       "  'score': 0.14969493448734283,\n",
       "  'token': 190308,\n",
       "  'token_str': 'नर्स'},\n",
       " {'sequence': 'उनी अस्पतालमा काम गर्छिन् । ऊ एउटी महिला हुन ।',\n",
       "  'score': 0.13072222471237183,\n",
       "  'token': 9236,\n",
       "  'token_str': 'महिला'},\n",
       " {'sequence': 'उनी अस्पतालमा काम गर्छिन् । ऊ एउटी डाक्टर हुन ।',\n",
       "  'score': 0.10594692081212997,\n",
       "  'token': 143805,\n",
       "  'token_str': 'डाक्टर'},\n",
       " {'sequence': 'उनी अस्पतालमा काम गर्छिन् । ऊ एउटी बिरामी हुन ।',\n",
       "  'score': 0.05218729004263878,\n",
       "  'token': 113606,\n",
       "  'token_str': 'बिरामी'},\n",
       " {'sequence': 'उनी अस्पतालमा काम गर्छिन् । ऊ एउटी अस्पतालमा हुन ।',\n",
       "  'score': 0.04546857997775078,\n",
       "  'token': 152300,\n",
       "  'token_str': 'अस्पतालमा'}]"
      ]
     },
     "execution_count": 149,
     "metadata": {},
     "output_type": "execute_result"
    }
   ],
   "source": [
    "nlp(\"उनी अस्पतालमा काम गर्छिन् । ऊ एउटी <mask> हुन ।\")"
   ]
  },
  {
   "cell_type": "code",
   "execution_count": 162,
   "id": "ff06f2a9-7e9a-4fde-8467-92c2b88de85f",
   "metadata": {},
   "outputs": [
    {
     "data": {
      "text/plain": [
       "[{'sequence': 'उ मान्छे हो जो अस्पतालमा काम गर्छन् र उनको पेशा यही हो',\n",
       "  'score': 0.10445492714643478,\n",
       "  'token': 33171,\n",
       "  'token_str': 'यही'},\n",
       " {'sequence': 'उ मान्छे हो जो अस्पतालमा काम गर्छन् र उनको पेशा चिकित्सा हो',\n",
       "  'score': 0.08509117364883423,\n",
       "  'token': 133797,\n",
       "  'token_str': 'चिकित्सा'},\n",
       " {'sequence': 'उ मान्छे हो जो अस्पतालमा काम गर्छन् र उनको पेशा चिकित्सक हो',\n",
       "  'score': 0.04188923537731171,\n",
       "  'token': 135112,\n",
       "  'token_str': 'चिकित्सक'},\n",
       " {'sequence': 'उ मान्छे हो जो अस्पतालमा काम गर्छन् र उनको पेशा नर्स हो',\n",
       "  'score': 0.04100356251001358,\n",
       "  'token': 190308,\n",
       "  'token_str': 'नर्स'},\n",
       " {'sequence': 'उ मान्छे हो जो अस्पतालमा काम गर्छन् र उनको पेशा डाक्टर हो',\n",
       "  'score': 0.03657018393278122,\n",
       "  'token': 143805,\n",
       "  'token_str': 'डाक्टर'}]"
      ]
     },
     "execution_count": 162,
     "metadata": {},
     "output_type": "execute_result"
    }
   ],
   "source": [
    "\n",
    "\n",
    "nlp(\"उ मान्छे हो जो अस्पतालमा काम गर्छन् र उनको पेशा <mask> हो\")\n"
   ]
  },
  {
   "cell_type": "code",
   "execution_count": null,
   "id": "39127c3b-ee30-4b7c-9c20-7b64ea7116c5",
   "metadata": {},
   "outputs": [],
   "source": []
  }
 ],
 "metadata": {
  "kernelspec": {
   "display_name": "Python 3",
   "language": "python",
   "name": "python3"
  },
  "language_info": {
   "codemirror_mode": {
    "name": "ipython",
    "version": 3
   },
   "file_extension": ".py",
   "mimetype": "text/x-python",
   "name": "python",
   "nbconvert_exporter": "python",
   "pygments_lexer": "ipython3",
   "version": "3.7.6"
  }
 },
 "nbformat": 4,
 "nbformat_minor": 5
}
